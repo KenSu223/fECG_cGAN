{
 "cells": [
  {
   "cell_type": "code",
   "execution_count": 4,
   "metadata": {},
   "outputs": [],
   "source": [
    "import os, shutil\n",
    "import os.path as osp\n",
    "import random, json\n",
    "from PIL import Image\n",
    "import numpy as np\n",
    "import matplotlib.pyplot as plt"
   ]
  },
  {
   "cell_type": "code",
   "execution_count": 24,
   "metadata": {},
   "outputs": [
    {
     "data": {
      "text/plain": [
       "([-0.03810775295663604,\n",
       "  -0.03660596958888662,\n",
       "  -0.04486577811150738,\n",
       "  -0.059132720105124825,\n",
       "  -0.07264877041486761,\n",
       "  -0.07903134972780168,\n",
       "  -0.07640322883424067,\n",
       "  -0.06664163694387082,\n",
       "  -0.0550028158438145,\n",
       "  -0.04636756147925658],\n",
       " [-0.03810775295663604,\n",
       "  -0.03660596958888662,\n",
       "  -0.04486577811150738,\n",
       "  -0.059132720105124825,\n",
       "  -0.07264877041486761,\n",
       "  -0.07903134972780168,\n",
       "  -0.07640322883424067,\n",
       "  -0.06664163694387082,\n",
       "  -0.0550028158438145,\n",
       "  -0.04636756147925658])"
      ]
     },
     "execution_count": 24,
     "metadata": {},
     "output_type": "execute_result"
    }
   ],
   "source": [
    "file_path = \"segments.json\"\n",
    "\n",
    "with open(file_path, 'rb') as f:\n",
    "    content = json.load(f)\n",
    "\n",
    "content['01'][0]['segments'][1][260:], content['01'][0]['segments'][2][:10]"
   ]
  },
  {
   "cell_type": "code",
   "execution_count": 1,
   "metadata": {},
   "outputs": [],
   "source": [
    "data_dir = \"../adbecg/spectrogram\""
   ]
  },
  {
   "cell_type": "code",
   "execution_count": 2,
   "metadata": {},
   "outputs": [],
   "source": [
    "r01_path = \"../adbecg/spectrogram/r01\"\n",
    "r04_path = \"../adbecg/spectrogram/r04\"\n",
    "r07_path = \"../adbecg/spectrogram/r07\"\n",
    "r08_path = \"../adbecg/spectrogram/r08\"\n",
    "r10_path = \"../adbecg/spectrogram/r10\"\n",
    "\n",
    "records = [r01_path, r04_path, r07_path, r08_path, r10_path]\n",
    "A_path = \"../adbecg/spectrogram/A\"\n",
    "B_path = \"../adbecg/spectrogram/B\""
   ]
  },
  {
   "cell_type": "code",
   "execution_count": 7,
   "metadata": {},
   "outputs": [
    {
     "data": {
      "text/plain": [
       "['r10', 'r07', 'r04', 'r01', 'B', 'A', 'r08']"
      ]
     },
     "execution_count": 7,
     "metadata": {},
     "output_type": "execute_result"
    }
   ],
   "source": [
    "os.listdir(data_dir)"
   ]
  },
  {
   "cell_type": "code",
   "execution_count": 6,
   "metadata": {},
   "outputs": [],
   "source": [
    "for file in os.listdir(data_dir):\n",
    "    file_path = osp.join(data_dir, file)\n",
    "    if file.startswith(\"r01_edf_Abdomen\") or file.startswith(\"r01_edf_Direct\"):\n",
    "        shutil.move(file_path, osp.join(r01_path, file))\n",
    "    if file.startswith(\"r02_edf_A\") or file.startswith(\"r02_edf_D\"):\n",
    "        shutil.move(file_path, osp.join(r04_path, file))\n",
    "    if file.startswith(\"r03_edf_A\") or file.startswith(\"r03_edf_D\"):\n",
    "        shutil.move(file_path, osp.join(r07_path, file))\n",
    "    if file.startswith(\"r04_edf_A\") or file.startswith(\"r04_edf_D\"):\n",
    "        shutil.move(file_path, osp.join(r08_path, file))\n",
    "    if file.startswith(\"r05_edf_A\") or file.startswith(\"r05_edf_D\"):\n",
    "        shutil.move(file_path, osp.join(r10_path, file))"
   ]
  },
  {
   "cell_type": "code",
   "execution_count": 10,
   "metadata": {},
   "outputs": [
    {
     "name": "stdout",
     "output_type": "stream",
     "text": [
      "Done.\n"
     ]
    }
   ],
   "source": [
    "# loop through all files in the  subfolder\n",
    "for record in records:\n",
    "    record_name = record.split('/')[-1]\n",
    "    for filename in os.listdir(record):\n",
    "        if filename.startswith(f\"{record_name}_edf_Direct_1\"):\n",
    "            # create the new filenames\n",
    "            filename_2 = filename.replace(\"Direct_1\", \"Direct_2\")\n",
    "            filename_3 = filename.replace(\"Direct_1\", \"Direct_3\")\n",
    "            filename_4 = filename.replace(\"Direct_1\", \"Direct_4\")\n",
    "\n",
    "            # create the full paths to the source and destination files\n",
    "            src_file = os.path.join(record, filename)\n",
    "            dest_file_2 = os.path.join(record, filename_2)\n",
    "            dest_file_3 = os.path.join(record, filename_3)\n",
    "            dest_file_4 = os.path.join(record, filename_4)\n",
    "\n",
    "            # create copies of the source file with the new filenames\n",
    "            shutil.copy2(src_file, dest_file_2)\n",
    "            shutil.copy2(src_file, dest_file_3)\n",
    "            shutil.copy2(src_file, dest_file_4)\n",
    "\n",
    "print(\"Done.\")\n",
    "\n"
   ]
  },
  {
   "cell_type": "code",
   "execution_count": 11,
   "metadata": {},
   "outputs": [
    {
     "name": "stdout",
     "output_type": "stream",
     "text": [
      "Done.\n"
     ]
    }
   ],
   "source": [
    "for record in records:\n",
    "    record_name = record.split('/')[-1]\n",
    "    for filename in os.listdir(record):\n",
    "        if filename.startswith(f\"{record_name}_edf_Abdomen\"):\n",
    "            # create the full paths to the source and destination files\n",
    "            src_file = os.path.join(record, filename)\n",
    "            dest_file = os.path.join(A_path, filename)\n",
    "\n",
    "            # copy the file to folder A\n",
    "            shutil.copy2(src_file, dest_file)\n",
    "\n",
    "        if filename.startswith(f\"{record_name}_edf_Direct\"):\n",
    "            # create the full paths to the source and destination files\n",
    "            src_file = os.path.join(record, filename)\n",
    "            dest_file = os.path.join(B_path, filename)\n",
    "\n",
    "            # copy the file to folder B\n",
    "            shutil.copy2(src_file, dest_file)\n",
    "\n",
    "print(\"Done.\")"
   ]
  },
  {
   "cell_type": "code",
   "execution_count": 12,
   "metadata": {},
   "outputs": [
    {
     "name": "stdout",
     "output_type": "stream",
     "text": [
      "Done.\n"
     ]
    }
   ],
   "source": [
    "# loop through all files in the folder\n",
    "for record in records:\n",
    "    record_name = record.split('/')[-1]\n",
    "    for filename in os.listdir(B_path):\n",
    "        if filename.startswith(f\"{record_name}_edf_Direct\"):\n",
    "            # create the full paths to the source and destination files\n",
    "            src_file = os.path.join(B_path, filename)\n",
    "            dest_file = os.path.join(B_path, filename.replace(f\"{record_name}_edf_Direct\", f\"{record_name}_edf_Abdomen\"))\n",
    "\n",
    "            # rename the file\n",
    "            os.rename(src_file, dest_file)\n",
    "\n",
    "print(\"Done.\")"
   ]
  },
  {
   "cell_type": "code",
   "execution_count": 13,
   "metadata": {},
   "outputs": [
    {
     "name": "stdout",
     "output_type": "stream",
     "text": [
      "Done.\n"
     ]
    }
   ],
   "source": [
    "# create sets of filenames for each folder\n",
    "A_set = set(os.listdir(A_path))\n",
    "B_set = set(os.listdir(B_path))\n",
    "\n",
    "# find the common filenames\n",
    "common_files = A_set.intersection(B_set)\n",
    "\n",
    "# remove the unmatched files from folder A\n",
    "for filename in A_set - common_files:\n",
    "    os.remove(os.path.join(A_path, filename))\n",
    "    print(f\"Removed {filename} from folder A.\")\n",
    "\n",
    "# remove the unmatched files from folder B\n",
    "for filename in B_set - common_files:\n",
    "    os.remove(os.path.join(B_path, filename))\n",
    "    print(f\"Removed {filename} from folder B.\")\n",
    "\n",
    "print(\"Done.\")"
   ]
  },
  {
   "cell_type": "code",
   "execution_count": 14,
   "metadata": {},
   "outputs": [
    {
     "name": "stdout",
     "output_type": "stream",
     "text": [
      "Done.\n"
     ]
    }
   ],
   "source": [
    "for folder in [A_path, B_path]:\n",
    "    train_path = osp.join(folder,\"train\")\n",
    "    val_path = osp.join(folder,\"test\")\n",
    "    test_path = osp.join(folder,\"val\")\n",
    "\n",
    "    # create lists to hold the filenames for each set\n",
    "    all_files = os.listdir(folder)\n",
    "    all_files.remove('train')\n",
    "    all_files.remove('val')\n",
    "    all_files.remove('test')\n",
    "    num_files = len(all_files)\n",
    "    train_size = int(0.8 * num_files)\n",
    "    val_size = int(0.1 * num_files)\n",
    "    test_size = num_files - train_size - val_size\n",
    "\n",
    "    # random.shuffle(all_files)\n",
    "\n",
    "    train_files = all_files[:train_size]\n",
    "    val_files = all_files[train_size:train_size+val_size]\n",
    "    test_files = all_files[train_size+val_size:]\n",
    "\n",
    "    # loop through the filenames for each set and move the files to the corresponding folder\n",
    "    for filename in train_files:\n",
    "        src_file = os.path.join(folder, filename)\n",
    "        dest_file = os.path.join(train_path, filename)\n",
    "        shutil.move(src_file, dest_file)\n",
    "\n",
    "    for filename in val_files:\n",
    "        src_file = os.path.join(folder, filename)\n",
    "        dest_file = os.path.join(val_path, filename)\n",
    "        shutil.move(src_file, dest_file)\n",
    "\n",
    "    for filename in test_files:\n",
    "        src_file = os.path.join(folder, filename)\n",
    "        dest_file = os.path.join(test_path, filename)\n",
    "        shutil.move(src_file, dest_file)\n",
    "\n",
    "print(\"Done.\")\n"
   ]
  },
  {
   "cell_type": "code",
   "execution_count": 8,
   "metadata": {},
   "outputs": [],
   "source": [
    "# define the folder containing the images\n",
    "for folder_path in [A_path, B_path]:\n",
    "    # traverse all subdirectories using os.walk\n",
    "    for root, dirs, files in os.walk(folder_path):\n",
    "        for file in files:\n",
    "            # check if file is an image\n",
    "            if file.endswith('.png') or file.endswith('.jpg') or file.endswith('.jpeg'):\n",
    "                # open the image\n",
    "                img_path = os.path.join(root, file)\n",
    "                img = Image.open(img_path)\n",
    "\n",
    "                # remove alpha channel\n",
    "                if img.mode == 'RGBA':\n",
    "                    img = img.convert('RGB')\n",
    "\n",
    "                # save the image with original name\n",
    "                img.save(img_path)"
   ]
  },
  {
   "cell_type": "code",
   "execution_count": 7,
   "metadata": {},
   "outputs": [
    {
     "data": {
      "text/plain": [
       "(535, 544, 3)"
      ]
     },
     "execution_count": 7,
     "metadata": {},
     "output_type": "execute_result"
    }
   ],
   "source": [
    "image = Image.open(\"/home/dustin/Documents/Research/FetalECG/Code/fECG_cGAN/data/adbecg/spectrogram/A/train/r01_edf_Abdomen_1_676.png\")\n",
    "\n",
    "np.array(image).shape"
   ]
  }
 ],
 "metadata": {
  "kernelspec": {
   "display_name": "fecg",
   "language": "python",
   "name": "python3"
  },
  "language_info": {
   "codemirror_mode": {
    "name": "ipython",
    "version": 3
   },
   "file_extension": ".py",
   "mimetype": "text/x-python",
   "name": "python",
   "nbconvert_exporter": "python",
   "pygments_lexer": "ipython3",
   "version": "3.8.16"
  },
  "orig_nbformat": 4,
  "vscode": {
   "interpreter": {
    "hash": "93c0ec5017f1ad60f401db040b1a29638d2a1cbaa101702c762beeff9a62a670"
   }
  }
 },
 "nbformat": 4,
 "nbformat_minor": 2
}
