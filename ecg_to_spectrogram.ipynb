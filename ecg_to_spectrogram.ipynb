{
 "cells": [
  {
   "cell_type": "code",
   "execution_count": 19,
   "id": "8a2c2004",
   "metadata": {},
   "outputs": [],
   "source": [
    "import numpy as np, scipy.signal as ss, cv2, pathlib\n",
    "import os\n",
    "import scipy\n",
    "from pathlib import Path\n",
    "import scipy.io as sio"
   ]
  },
  {
   "cell_type": "code",
   "execution_count": 10,
   "id": "946dc355",
   "metadata": {},
   "outputs": [],
   "source": [
    "from scipy.signal import correlate, hilbert, butter, firwin, filtfilt, lfilter, resample_poly\n",
    "\n",
    "def butter_bandpass(lowcut, highcut, fs, order=2):\n",
    "    nyq = 0.5 * fs\n",
    "    low = lowcut / nyq\n",
    "    high = highcut / nyq\n",
    "    b, a = butter(order, [low, high], btype='bandpass')\n",
    "    return b, a\n",
    "\n",
    "def butter_bandpass_filter(data, lowcut, highcut, fs, order=2):\n",
    "    b, a = butter_bandpass(lowcut, highcut, fs, order=order)\n",
    "    y = lfilter(b, a, data)\n",
    "    return y\n",
    "\n",
    "def DUS_filtering(DUS, fs):  \n",
    "    #25-600Hz 4th order Butterworth band pass\n",
    "    lowcut = 0.5\n",
    "    highcut = 40\n",
    "    DUS_f = butter_bandpass_filter(DUS, lowcut, highcut, fs, order=2)\n",
    "    return DUS_f\n",
    "\n",
    "def bandpass_filter(signal, lowcut, highcut, fs, order=5):\n",
    "    nyquist = 0.5 * fs\n",
    "    low = lowcut / nyquist\n",
    "    high = highcut / nyquist\n",
    "    b, a = butter(order, [low, high], btype='band')\n",
    "    # Apply the filter\n",
    "    filtered_signal = filtfilt(b, a, signal)\n",
    "    return filtered_signal\n",
    "\n",
    "def normalize_signal(signal):\n",
    "    # Normalize the signal to the range [-1, 1]\n",
    "    signal_min = np.min(signal)\n",
    "    signal_max = np.max(signal)\n",
    "    normalized_signal = 2 * (signal - signal_min) / (signal_max - signal_min) - 1\n",
    "    return normalized_signal"
   ]
  },
  {
   "cell_type": "code",
   "execution_count": 7,
   "id": "9fc33954",
   "metadata": {},
   "outputs": [
    {
     "data": {
      "text/plain": [
       "'/home/tsu25/fECG_cGAN'"
      ]
     },
     "execution_count": 7,
     "metadata": {},
     "output_type": "execute_result"
    }
   ],
   "source": [
    "os.getcwd()"
   ]
  },
  {
   "cell_type": "code",
   "execution_count": 8,
   "id": "114c1ad0",
   "metadata": {},
   "outputs": [
    {
     "name": "stdout",
     "output_type": "stream",
     "text": [
      "Keys in the .mat file: dict_keys(['__header__', '__version__', '__globals__', 'PORTI', 'fs'])\n"
     ]
    }
   ],
   "source": [
    "# Load the .mat file\n",
    "mat_file_path = '/labs/katebilab/NinFEA_Data/ECG-Doppler/1.mat'\n",
    "mat_data = scipy.io.loadmat(mat_file_path)\n",
    "\n",
    "# Display the keys in the .mat file (variables stored in the file)\n",
    "print(\"Keys in the .mat file:\", mat_data.keys())"
   ]
  },
  {
   "cell_type": "code",
   "execution_count": 9,
   "id": "0926a591",
   "metadata": {},
   "outputs": [
    {
     "data": {
      "text/plain": [
       "array([[ 9.08900879e+03,  9.08879395e+03,  9.08879395e+03, ...,\n",
       "         1.04339951e+04,  1.04322793e+04,  1.04301348e+04],\n",
       "       [-2.83333057e+03, -2.83318774e+03, -2.83268701e+03, ...,\n",
       "        -1.95609705e+03, -1.95802759e+03, -1.96174561e+03],\n",
       "       [ 9.67280664e+03,  9.67273535e+03,  9.67530859e+03, ...,\n",
       "         9.73930176e+03,  9.73894434e+03,  9.73851465e+03],\n",
       "       ...,\n",
       "       [ 1.72140656e+05,  1.72132062e+05,  1.72137797e+05, ...,\n",
       "         1.75140406e+05,  1.75134688e+05,  1.75154719e+05],\n",
       "       [ 9.00000000e+00,  1.10000000e+01,  1.30000000e+01, ...,\n",
       "         3.90000000e+01,  4.10000000e+01,  4.30000000e+01],\n",
       "       [ 6.00000000e+00,  6.00000000e+00,  6.00000000e+00, ...,\n",
       "         6.00000000e+00,  6.00000000e+00,  6.00000000e+00]])"
      ]
     },
     "execution_count": 9,
     "metadata": {},
     "output_type": "execute_result"
    }
   ],
   "source": [
    "mat_data['PORTI']"
   ]
  },
  {
   "cell_type": "code",
   "execution_count": 20,
   "id": "29e253d5",
   "metadata": {},
   "outputs": [],
   "source": [
    "def ecg_to_spec(ecg1d, fs=1000, nperseg=512, noverlap=384,\n",
    "                f_max=150, out_size=(256, 256)):\n",
    "    f, t, Z = ss.stft(ecg1d, fs, 'hann', nperseg, noverlap)\n",
    "    Z = np.abs(Z)[f <= f_max]\n",
    "    Z = 20*np.log10(Z + 1e-8)\n",
    "    Z = (Z - Z.min()) / (Z.ptp() + 1e-12)\n",
    "    return (cv2.resize(Z, out_size[::-1]) * 255).astype(np.uint8)\n",
    "\n",
    "def preprocess(sig, fs_in, fs_out=1000, bp=(0.5, 150)):\n",
    "    b, a = ss.butter(4, [bp[0]/(fs_in/2), bp[1]/(fs_in/2)], 'bandpass')\n",
    "    sig = ss.filtfilt(b, a, sig, axis=-1)\n",
    "    if fs_in != fs_out:\n",
    "        n = int(round(sig.shape[-1] * fs_out / fs_in))\n",
    "        sig = ss.resample(sig, n, axis=-1)\n",
    "    return fs_out, sig\n",
    "\n",
    "def process_mat(mat_path: Path, out_root: Path,\n",
    "                lead_idx: int = 0,      # choose 0-23 for abdominal channel\n",
    "                win_sec: float = 5.0):\n",
    "    mdict = sio.loadmat(mat_path, squeeze_me=True, struct_as_record=False)\n",
    "    if 'PORTI' not in mdict:\n",
    "        raise KeyError(f\"'PORTI' not found in {mat_path}\")\n",
    "    fs_raw   = float(mdict.get('fs', 2048))          \n",
    "    lead_raw = np.asarray(mdict['PORTI'], np.float64)[lead_idx]   # selected abdominal channel\n",
    "    fs, lead = preprocess(lead_raw, fs_raw)          \n",
    "\n",
    "    win = int(win_sec * fs)       # 5 000 samples @1 kHz\n",
    "    hop = win                     # non-overlap\n",
    "    rec = mat_path.stem\n",
    "    out_dir = out_root / 'A' / 'test'\n",
    "    out_dir.mkdir(parents=True, exist_ok=True)\n",
    "\n",
    "    for start in range(0, len(lead) - win + 1, hop):\n",
    "        seg = lead[start:start + win]\n",
    "        png = ecg_to_spec(seg, fs)\n",
    "        t0  = start // fs                         # start time [s]\n",
    "        fname = f\"{rec}_ch{lead_idx+1:02d}_t{t0:06d}.png\"\n",
    "        cv2.imwrite(str(out_dir / fname), png)"
   ]
  },
  {
   "cell_type": "code",
   "execution_count": 21,
   "id": "e6d13555",
   "metadata": {},
   "outputs": [],
   "source": [
    "DATA_DIR = Path(\"/labs/katebilab/NinFEA_Data/ECG-Doppler\").expanduser()   # folder with .mat files\n",
    "OUT_DIR  = Path(\"datasets/ninfea\")             # Pix2Pix dataroot\n",
    "LEAD     = 7                                   # e.g. row 8 (0-based)\n",
    "\n",
    "for f in DATA_DIR.glob(\"*.mat\"):\n",
    "    process_mat(f, OUT_DIR, lead_idx=LEAD)"
   ]
  },
  {
   "cell_type": "code",
   "execution_count": null,
   "id": "7e6b66df",
   "metadata": {},
   "outputs": [],
   "source": []
  },
  {
   "cell_type": "code",
   "execution_count": 15,
   "id": "30885527",
   "metadata": {},
   "outputs": [],
   "source": [
    "# Alternative ECG processing with customized bandpass filters same as in NInFEA_processing\n",
    "\n",
    "def preprocess_with_customized_filter(sig, fs_in, fs_out=1000):\n",
    "    # customzied bandpass filter\n",
    "    sig_f = DUS_filtering(sig, fs_in)\n",
    "    # optional resample (keeps GAN in 1 kHz domain)\n",
    "    if fs_in != fs_out:\n",
    "        n = int(round(sig_f.shape[-1] * fs_out / fs_in))\n",
    "        sig_f = ss.resample(sig_f, n, axis=-1)                       \n",
    "    # optional normalise to [-1,1]\n",
    "    return fs_out, normalize_signal(sig_f)\n",
    "\n",
    "def process_mat_customized_filter(mat_path: Path, out_root: Path):\n",
    "    m   = sio.loadmat(mat_path, squeeze_me=True, struct_as_record=False) \n",
    "    fs  = float(m.get('fs', 2048))\n",
    "    raw = np.asarray(m['PORTI'], dtype=np.float64)[:24]                  # rows 1-24 = abdominal\n",
    "    fs, sigs = preprocess_with_user_filter(raw, fs)\n",
    "    out_dir  = out_root / 'A' / 'test'; out_dir.mkdir(parents=True, exist_ok=True)\n",
    "    for ch, ecg in enumerate(sigs, 1):\n",
    "        cv2.imwrite(str(out_dir / f\"{mat_path.stem}_ch{ch:02d}.png\"),\n",
    "                    ecg_to_spec(ecg, fs))"
   ]
  }
 ],
 "metadata": {
  "kernelspec": {
   "display_name": "fecg_GAN",
   "language": "python",
   "name": "python3"
  },
  "language_info": {
   "codemirror_mode": {
    "name": "ipython",
    "version": 3
   },
   "file_extension": ".py",
   "mimetype": "text/x-python",
   "name": "python",
   "nbconvert_exporter": "python",
   "pygments_lexer": "ipython3",
   "version": "3.8.20"
  }
 },
 "nbformat": 4,
 "nbformat_minor": 5
}
