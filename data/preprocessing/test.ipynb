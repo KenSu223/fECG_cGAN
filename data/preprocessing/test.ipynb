{
 "cells": [
  {
   "cell_type": "code",
   "execution_count": null,
   "metadata": {},
   "outputs": [],
   "source": [
    "import numpy as np\n",
    "from scipy import signal\n",
    "import matplotlib.pyplot as plt\n",
    "from utils.DataUtils import DataUtils\n",
    "from Processing import spectrogram\n",
    "import os\n",
    "import json\n",
    "from SignalPreProcessor import normalize\n",
    "\n",
    "def main():\n",
    "    data = ['adbecg', 'nifecg', 'synt_ecg']\n",
    "    data_utils = DataUtils()\n",
    "\n",
    "    # # ADBECG\n",
    "    adbecg = data_utils.get_data(dataset='adbecg')\n",
    "    # # # NIFECG\n",
    "    # nifecg = data_utils.get_data(dataset='nifecg')\n",
    "    # # SYNT_ECG\n",
    "    # synt_ecg = data_utils.get_data(dataset='synt_ecg')\n",
    "    \n",
    "    fs = 1000  # 1000Hz sampling frequency\n",
    "    \n",
    "    segment_size = int(0.25 * fs)  # 250ms segment size\n",
    "    overlap_size = int(0.01 * fs)  # 10ms overlap size\n",
    "    window = signal.get_window('hamming', segment_size)  # Hamming window\n",
    "    time_axis = np.arange(0, segment_size) / fs\n",
    "\n",
    "    # data = {} # create an empty dictionary to store the segments for each record\n",
    "    # metadata = [] # create an empty list to store the metadata for each record\n",
    "\n",
    "    for record in adbecg:\n",
    "        if record.endswith('r01.edf'):\n",
    "            continue\n",
    "        record_id = (record.split('/')[-1][1:3])\n",
    "        print(f\"Reading record {record_id}\")\n",
    "        record_signal = data_utils.open_record(record)\n",
    "        # record_segments = {record_id: {'abdominal': {}, 'fetal': {}}}\n",
    "\n",
    "        for chn in range(0, len(record_signal.getSampleFrequencies())):\n",
    "            channel_name = record_signal.getSignalLabels()[chn]\n",
    "            print('Reading channel: {}'.format(record_signal.getSignalLabels()[chn]))\n",
    "            _signal = normalize(record_signal.readSignal(chn))\n",
    "            # _signal = np.interp(_signal, (_signal.min(), _signal.max()), (-1, 1))\n",
    "            \n",
    "            segments = []\n",
    "            segments_index = 0\n",
    "            for i in range(0, len(_signal) - segment_size, segment_size - overlap_size):\n",
    "                segment = _signal[i:i+segment_size] * window"
   ]
  }
 ],
 "metadata": {
  "kernelspec": {
   "display_name": "fecg",
   "language": "python",
   "name": "python3"
  },
  "language_info": {
   "codemirror_mode": {
    "name": "ipython",
    "version": 3
   },
   "file_extension": ".py",
   "mimetype": "text/x-python",
   "name": "python",
   "nbconvert_exporter": "python",
   "pygments_lexer": "ipython3",
   "version": "3.8.16"
  },
  "orig_nbformat": 4,
  "vscode": {
   "interpreter": {
    "hash": "93c0ec5017f1ad60f401db040b1a29638d2a1cbaa101702c762beeff9a62a670"
   }
  }
 },
 "nbformat": 4,
 "nbformat_minor": 2
}
